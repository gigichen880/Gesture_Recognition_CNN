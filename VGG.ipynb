{
 "cells": [
  {
   "cell_type": "code",
   "execution_count": null,
   "id": "3f696ae9",
   "metadata": {
    "id": "3f696ae9"
   },
   "outputs": [],
   "source": [
    "import torch\n",
    "import torch.nn as nn\n",
    "import torch.optim as optim\n",
    "import torch.nn.functional as F\n",
    "from torchvision import datasets, transforms\n",
    "import matplotlib.pyplot as plt\n",
    "%matplotlib inline\n",
    "import cv2\n",
    "import os\n",
    "import pandas as pd\n",
    "import numpy as np\n",
    "import random\n",
    "device = torch.device(\"cuda\" if torch.cuda.is_available() else \"cpu\")"
   ]
  },
  {
   "cell_type": "code",
   "execution_count": null,
   "id": "vBMD-y_l3v2J",
   "metadata": {
    "colab": {
     "base_uri": "https://localhost:8080/"
    },
    "id": "vBMD-y_l3v2J",
    "outputId": "d9b178d6-ac91-4e0a-cf7f-3c9694b9a8ad"
   },
   "outputs": [
    {
     "name": "stdout",
     "output_type": "stream",
     "text": [
      "Drive already mounted at /content/drive; to attempt to forcibly remount, call drive.mount(\"/content/drive\", force_remount=True).\n"
     ]
    }
   ],
   "source": [
    "from google.colab import drive\n",
    "drive.mount('/content/drive')"
   ]
  },
  {
   "cell_type": "code",
   "execution_count": null,
   "id": "VQ0cSMWj1sZ5",
   "metadata": {
    "colab": {
     "base_uri": "https://localhost:8080/"
    },
    "id": "VQ0cSMWj1sZ5",
    "outputId": "6ad8aadc-74e6-437c-eb79-3ec901abff32"
   },
   "outputs": [
    {
     "name": "stdout",
     "output_type": "stream",
     "text": [
      "cuda\n"
     ]
    }
   ],
   "source": [
    "print(device)"
   ]
  },
  {
   "cell_type": "code",
   "execution_count": null,
   "id": "715a6b8b",
   "metadata": {
    "id": "715a6b8b"
   },
   "outputs": [],
   "source": [
    "# define hyperparameters\n",
    "input_size = 128\n",
    "num_classes = 3\n",
    "num_epochs = 10\n",
    "batch_size = 64"
   ]
  },
  {
   "cell_type": "code",
   "execution_count": null,
   "id": "3b66d671",
   "metadata": {
    "id": "3b66d671"
   },
   "outputs": [],
   "source": [
    "data_transforms = {\n",
    "    # Random Rotation from -45 to 45 degree\n",
    "    'train' :\n",
    "    transforms.Compose([\n",
    "        transforms.Resize((input_size, input_size)),\n",
    "        transforms.RandomRotation(degrees=(-100, -80)),\n",
    "#        transforms.RandomHorizontalFlip(p=0.5), # 50% horizontal flip\n",
    "#        transforms.RandomVerticalFlip(p=0.5), # 50% vertical flip\n",
    "      #  transforms.RandomGrayscale(p=1), # 100% convert to gray\n",
    "       transforms.ToTensor()\n",
    "    ]),\n",
    "    'test': transforms.Compose([\n",
    "        transforms.Resize((input_size, input_size)),\n",
    "        transforms.RandomRotation(degrees=(-93, -87)),\n",
    "        transforms.ToTensor()\n",
    "    ])\n",
    "}"
   ]
  },
  {
   "cell_type": "code",
   "execution_count": null,
   "id": "f6b9b484",
   "metadata": {
    "id": "f6b9b484"
   },
   "outputs": [],
   "source": [
    "# train dataset\n",
    "\n",
    "data_dir = '/content/drive/MyDrive/PRS'\n",
    "train_dir = data_dir + 'train'\n",
    "test_dir = data_dir + 'test'\n",
    "\n",
    "image_datasets = {x : datasets.ImageFolder(os.path.join(data_dir, x), data_transforms[x]) for x in ['train', 'test']}\n",
    "dataloaders = {x : torch.utils.data.DataLoader(image_datasets[x], batch_size=batch_size, shuffle = True) for x in ['train', 'test']}"
   ]
  },
  {
   "cell_type": "code",
   "execution_count": null,
   "id": "294fbfc7",
   "metadata": {
    "colab": {
     "base_uri": "https://localhost:8080/"
    },
    "id": "294fbfc7",
    "outputId": "8cfe7f2d-8f49-42c8-988f-1261d655372b"
   },
   "outputs": [
    {
     "data": {
      "text/plain": [
       "{'train': Dataset ImageFolder\n",
       "     Number of datapoints: 1500\n",
       "     Root location: /content/drive/MyDrive/PRS/train\n",
       "     StandardTransform\n",
       " Transform: Compose(\n",
       "                Resize(size=(128, 128), interpolation=bilinear, max_size=None, antialias=warn)\n",
       "                RandomRotation(degrees=[-100.0, -80.0], interpolation=nearest, expand=False, fill=0)\n",
       "                ToTensor()\n",
       "            ),\n",
       " 'test': Dataset ImageFolder\n",
       "     Number of datapoints: 150\n",
       "     Root location: /content/drive/MyDrive/PRS/test\n",
       "     StandardTransform\n",
       " Transform: Compose(\n",
       "                Resize(size=(128, 128), interpolation=bilinear, max_size=None, antialias=warn)\n",
       "                ToTensor()\n",
       "            )}"
      ]
     },
     "execution_count": 22,
     "metadata": {},
     "output_type": "execute_result"
    }
   ],
   "source": [
    "image_datasets"
   ]
  },
  {
   "cell_type": "code",
   "execution_count": null,
   "id": "63fbbc79",
   "metadata": {
    "id": "63fbbc79"
   },
   "outputs": [],
   "source": [
    "# // do dataset and convert to gray frames\n",
    "\n",
    "# x_train = []\n",
    "# y_train = []\n",
    "\n",
    "# ROOT_DIR = \"data_asl\"\n",
    "# train_dir = os.listdir(ROOT_DIR)[2]\n",
    "# for letter in os.listdir(os.path.join(ROOT_DIR, train_dir)):\n",
    "#     for img_path in os.listdir(os.path.join(ROOT_DIR, train_dir, letter)):\n",
    "#         img = cv2.imread(os.path.join(ROOT_DIR, train_dir, letter, img_path))\n",
    "#         seed = random.random()\n",
    "#         if seed < 0.1:\n",
    "#             x_train.append(img)\n",
    "#             y_train.append(letter)"
   ]
  },
  {
   "cell_type": "code",
   "execution_count": null,
   "id": "a2ed81a1",
   "metadata": {
    "id": "a2ed81a1"
   },
   "outputs": [],
   "source": [
    "# batches of data\n",
    "train_loader = dataloaders[\"train\"]\n",
    "\n",
    "test_loader = dataloaders[\"test\"]"
   ]
  },
  {
   "cell_type": "code",
   "execution_count": null,
   "id": "c55db315",
   "metadata": {
    "id": "c55db315"
   },
   "outputs": [],
   "source": [
    "class CNN(nn.Module):\n",
    "    def __init__(self):\n",
    "        super(CNN, self).__init__()\n",
    "        self.conv1 = nn.Sequential(\n",
    "            nn.Conv2d(\n",
    "                in_channels = 3,\n",
    "                out_channels = 64,\n",
    "                kernel_size = 3,\n",
    "                stride = 1,\n",
    "                padding = 2,\n",
    "            ),\n",
    "            nn.BatchNorm2d(64),\n",
    "            nn.ReLU(),\n",
    "            nn.MaxPool2d(kernel_size = 2),\n",
    "        )\n",
    "        self.conv2 = nn.Sequential(\n",
    "            nn.Conv2d(64, 128, 3, 1, 2),\n",
    "            nn.BatchNorm2d(128),\n",
    "            nn.ReLU(),\n",
    "            nn.MaxPool2d(2),\n",
    "        )\n",
    "        self.conv3 = nn.Sequential(\n",
    "            nn.Conv2d(128, 256, 3, 1, 2),\n",
    "            nn.BatchNorm2d(256),\n",
    "            nn.ReLU(),\n",
    "            nn.MaxPool2d(2),\n",
    "        )\n",
    "        self.conv4 = nn.Sequential(\n",
    "            nn.Conv2d(256, 512, 3, 1, 2),\n",
    "            nn.BatchNorm2d(512),\n",
    "            nn.ReLU(),\n",
    "            nn.MaxPool2d(2),\n",
    "        )\n",
    "        self.conv5 = nn.Sequential(\n",
    "            nn.Conv2d(512, 512, 3, 1, 2),\n",
    "            nn.BatchNorm2d(512),\n",
    "            nn.ReLU(),\n",
    "            nn.MaxPool2d(2),\n",
    "        )\n",
    "        self.out = nn.Linear(12800, num_classes)\n",
    "    def forward(self, x):\n",
    "        x = self.conv1(x)\n",
    "        x = self.conv2(x)\n",
    "        x = self.conv3(x)\n",
    "        x = self.conv4(x)\n",
    "        x = self.conv5(x)\n",
    "        x = x.view(x.size(0), -1)\n",
    "        output = self.out(x)\n",
    "        return output"
   ]
  },
  {
   "cell_type": "code",
   "execution_count": null,
   "id": "7f29408c",
   "metadata": {
    "id": "7f29408c"
   },
   "outputs": [],
   "source": [
    "# define accuracy\n",
    "def accuracy(predictions, labels):\n",
    "    pred = torch.max(predictions.data, 1)[1]\n",
    "    rights = pred.eq(labels.data.view_as(pred)).sum()\n",
    "    return rights, len(labels)"
   ]
  },
  {
   "cell_type": "code",
   "execution_count": null,
   "id": "4f7b2618",
   "metadata": {
    "id": "4f7b2618"
   },
   "outputs": [],
   "source": [
    "# Train a CNN model\n",
    "# Instantializing\n",
    "model = CNN()\n",
    "# Loss Function\n",
    "criterion = nn.CrossEntropyLoss()\n",
    "# Optimizer\n",
    "optimizer = optim.Adam(model.parameters(), lr=0.001)"
   ]
  },
  {
   "cell_type": "code",
   "execution_count": null,
   "id": "949eeabe",
   "metadata": {
    "colab": {
     "base_uri": "https://localhost:8080/"
    },
    "id": "949eeabe",
    "outputId": "eb79696c-0987-49c0-f24c-b4c7c3c0eb43"
   },
   "outputs": [
    {
     "name": "stdout",
     "output_type": "stream",
     "text": [
      "Epoch 1 loss: 0.7136214375495911\n",
      "Epoch 2 loss: 0.32064494490623474\n",
      "Epoch 3 loss: 0.0819639340043068\n",
      "Epoch 4 loss: 0.09355366975069046\n",
      "Epoch 5 loss: 0.15723015367984772\n",
      "Epoch 6 loss: 0.008798454888164997\n",
      "Epoch 7 loss: 0.13351953029632568\n",
      "Epoch 8 loss: 0.007511720526963472\n",
      "Epoch 9 loss: 0.003151526441797614\n",
      "Epoch 10 loss: 0.013999848626554012\n"
     ]
    }
   ],
   "source": [
    "# Start training\n",
    "for epoch in range(num_epochs):\n",
    "    train_rights = []\n",
    "\n",
    "    for batch_idx, (data, target) in enumerate(train_loader):\n",
    "        model.train()\n",
    "        output = model(data)\n",
    "        loss = criterion(output, target)\n",
    "        optimizer.zero_grad()\n",
    "        loss.backward()\n",
    "        optimizer.step()\n",
    "\n",
    "    print(f\"Epoch {epoch+1} loss: {loss}\")\n",
    "\n",
    "\n",
    "\n",
    "        # right = accuracy(output, target)\n",
    "        # train_rights.append(right)\n",
    "\n",
    "# print(\"Final Accuracy:\", sum(torch.argmax(model(x.to(device)), dim=1) == y.to(device) for x, y in test_loader) / len(test_loader))\n",
    "\n",
    "\n",
    "\n",
    "        # if batch_idx % 10 == 0:\n",
    "        #     model.eval()\n",
    "        #     val_rights = []\n",
    "\n",
    "        #     for (data, target) in test_loader:\n",
    "        #         output = model(data)\n",
    "        #         right = accuracy(output, target)\n",
    "        #         val_rights.append(right)\n",
    "\n",
    "            # Calculate Accuracy\n",
    "\n",
    "            # train_r = (sum([tup[0] for tup in train_rights]), sum([tup[1] for tup in train_rights]))\n",
    "            # val_r = (sum([tup[0] for tup in val_rights]), sum([tup[1] for tup in val_rights]))\n",
    "\n",
    "            # print('Current Epoch: {} [{} / {} ({:.0f}%)]\\t Loss: {:.6f}\\t Train_set Accuracy: {:2f}%\\t Test_set Accuracy: {:.2f}%'.format(\n",
    "            #     epoch, batch_idx*batch_size, len(train_loader.dataset),\n",
    "            #     100. * batch_idx / len(train_loader),\n",
    "            #     loss.data,\n",
    "            #     100. * train_r[0].numpy() / train_r[1],\n",
    "            #     100. * val_r[0].numpy() / val_r[1]))\n"
   ]
  },
  {
   "cell_type": "code",
   "execution_count": null,
   "id": "24fd83aa",
   "metadata": {
    "colab": {
     "base_uri": "https://localhost:8080/"
    },
    "id": "24fd83aa",
    "outputId": "c9361c5e-77be-4203-89cb-b1a2fe71a449"
   },
   "outputs": [
    {
     "name": "stdout",
     "output_type": "stream",
     "text": [
      "Accuracy of the network on the 150 test images: 99.33333333333333 %\n"
     ]
    }
   ],
   "source": [
    "with torch.no_grad():\n",
    "    correct = 0\n",
    "    total = 0\n",
    "    for images, labels in test_loader:\n",
    "        # images = images.to(device)\n",
    "        # labels = labels.to(device)\n",
    "        outputs = model(images)\n",
    "        _, predicted = torch.max(outputs.data, 1)\n",
    "        total += labels.size(0)\n",
    "        correct += (predicted == labels).sum().item()\n",
    "        del images, labels, outputs\n",
    "\n",
    "    print('Accuracy of the network on the {} test images: {} %'.format(150, 100 * correct / total))\n"
   ]
  },
  {
   "cell_type": "code",
   "execution_count": null,
   "id": "JB7GvK9mGhH7",
   "metadata": {
    "id": "JB7GvK9mGhH7"
   },
   "outputs": [],
   "source": [
    "torch.save(model, 'model.mdl')"
   ]
  },
  {
   "cell_type": "code",
   "execution_count": null,
   "id": "cc45792b",
   "metadata": {
    "id": "cc45792b"
   },
   "outputs": [],
   "source": [
    "torch.save(model.state_dict(), 'weights_model.mdl')"
   ]
  },
  {
   "cell_type": "code",
   "execution_count": null,
   "id": "32e847a8",
   "metadata": {
    "colab": {
     "base_uri": "https://localhost:8080/"
    },
    "id": "32e847a8",
    "outputId": "759101b3-e77b-4d0c-b884-5a7f9f4da817"
   },
   "outputs": [
    {
     "name": "stdout",
     "output_type": "stream",
     "text": [
      "Accuracy of the network on the 150 test images: 99.33333333333333 %\n"
     ]
    }
   ],
   "source": [
    "model2 = CNN()\n",
    "model2.load_state_dict(torch.load('weights_model.mdl'))\n",
    "with torch.no_grad():\n",
    "    correct = 0\n",
    "    total = 0\n",
    "    for images, labels in test_loader:\n",
    "\n",
    "        outputs = model2(images)\n",
    "        _, predicted = torch.max(outputs.data, 1)\n",
    "        total += labels.size(0)\n",
    "        correct += (predicted == labels).sum().item()\n",
    "        del images, labels, outputs\n",
    "\n",
    "    print('Accuracy of the network on the {} test images: {} %'.format(150, 100 * correct / total))\n"
   ]
  },
  {
   "cell_type": "code",
   "execution_count": null,
   "id": "LFn9_4lo2SiR",
   "metadata": {
    "id": "LFn9_4lo2SiR"
   },
   "outputs": [],
   "source": [
    "model3 = torch.load('model.mdl')"
   ]
  }
 ],
 "metadata": {
  "accelerator": "GPU",
  "colab": {
   "gpuType": "T4",
   "provenance": []
  },
  "kernelspec": {
   "display_name": "Python 3 (ipykernel)",
   "language": "python",
   "name": "python3"
  },
  "language_info": {
   "codemirror_mode": {
    "name": "ipython",
    "version": 3
   },
   "file_extension": ".py",
   "mimetype": "text/x-python",
   "name": "python",
   "nbconvert_exporter": "python",
   "pygments_lexer": "ipython3",
   "version": "3.8.0"
  }
 },
 "nbformat": 4,
 "nbformat_minor": 5
}
